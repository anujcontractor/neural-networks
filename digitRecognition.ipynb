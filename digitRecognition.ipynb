{
 "cells": [
  {
   "cell_type": "code",
   "execution_count": 52,
   "metadata": {},
   "outputs": [],
   "source": [
    "import numpy as np\n",
    "import pandas as pd\n",
    "from matplotlib import pyplot as plt\n",
    "\n",
    "data = pd.read_csv('./digit-recognizer/train.csv')"
   ]
  },
  {
   "cell_type": "code",
   "execution_count": 53,
   "metadata": {},
   "outputs": [
    {
     "name": "stdout",
     "output_type": "stream",
     "text": [
      "(42000, 785)\n",
      "[[1 0 0 ... 0 0 0]\n",
      " [0 0 0 ... 0 0 0]\n",
      " [1 0 0 ... 0 0 0]\n",
      " ...\n",
      " [7 0 0 ... 0 0 0]\n",
      " [6 0 0 ... 0 0 0]\n",
      " [9 0 0 ... 0 0 0]]\n"
     ]
    }
   ],
   "source": [
    "data = np.array(data)\n",
    "m, n = data.shape\n",
    "print(data.shape)\n",
    "print(data)\n",
    "np.random.shuffle(data) # shuffle before splitting into dev and training sets\n",
    "\n",
    "data_dev = data[0:1000].T\n",
    "Y_dev = data_dev[0]\n",
    "X_dev = data_dev[1:n]\n",
    "X_dev = X_dev / 255.\n",
    "\n",
    "data_train = data[1000:m].T\n",
    "Y_train = data_train[0]\n",
    "X_train = data_train[1:n]\n",
    "X_train = X_train / 255.\n",
    "_,m_train = X_train.shape"
   ]
  },
  {
   "cell_type": "code",
   "execution_count": 54,
   "metadata": {},
   "outputs": [
    {
     "data": {
      "text/plain": [
       "(784, 41000)"
      ]
     },
     "execution_count": 54,
     "metadata": {},
     "output_type": "execute_result"
    }
   ],
   "source": [
    "X_train.shape"
   ]
  },
  {
   "cell_type": "code",
   "execution_count": 59,
   "metadata": {},
   "outputs": [],
   "source": [
    "def init_params():\n",
    "    W1 = np.random.rand(10, 784) - 0.5\n",
    "    b1 = np.random.rand(10, 1) - 0.5\n",
    "    W2 = np.random.rand(10, 10) - 0.5\n",
    "    b2 = np.random.rand(10, 1) - 0.5\n",
    "    return W1, b1, W2, b2\n",
    "\n",
    "def ReLU(Z):\n",
    "    return np.maximum(Z, 0)\n",
    "\n",
    "def softmax(Z):\n",
    "    exp_Z = np.exp(Z - np.max(Z, axis=1, keepdims=True))\n",
    "    A = exp_Z / np.sum(exp_Z, axis=1, keepdims=True)\n",
    "    return A\n",
    "    \n",
    "def forward_prop(W1, b1, W2, b2, X):\n",
    "    Z1 = W1.dot(X) + b1\n",
    "    A1 = ReLU(Z1)\n",
    "    Z2 = W2.dot(A1) + b2\n",
    "    A2 = softmax(Z2)\n",
    "    return Z1, A1, Z2, A2\n",
    "\n",
    "def ReLU_deriv(Z):\n",
    "    return Z > 0\n",
    "\n",
    "def one_hot(Y):\n",
    "    one_hot_Y = np.zeros((Y.size, Y.max() + 1))\n",
    "    one_hot_Y[np.arange(Y.size), Y] = 1\n",
    "    one_hot_Y = one_hot_Y.T\n",
    "    return one_hot_Y\n",
    "\n",
    "def backward_prop(Z1, A1, Z2, A2, W1, W2, X, Y):\n",
    "    one_hot_Y = one_hot(Y)\n",
    "    dZ2 = A2 - one_hot_Y\n",
    "    dW2 = 1 / m * dZ2.dot(A1.T)\n",
    "    db2 = 1 / m * np.sum(dZ2)\n",
    "    dZ1 = W2.T.dot(dZ2) * ReLU_deriv(Z1)\n",
    "    dW1 = 1 / m * dZ1.dot(X.T)\n",
    "    db1 = 1 / m * np.sum(dZ1)\n",
    "    return dW1, db1, dW2, db2\n",
    "\n",
    "def update_params(W1, b1, W2, b2, dW1, db1, dW2, db2, alpha):\n",
    "    W1 = W1 - alpha * dW1\n",
    "    b1 = b1 - alpha * db1    \n",
    "    W2 = W2 - alpha * dW2  \n",
    "    b2 = b2 - alpha * db2    \n",
    "    return W1, b1, W2, b2"
   ]
  },
  {
   "cell_type": "code",
   "execution_count": 87,
   "metadata": {},
   "outputs": [],
   "source": [
    "def get_predictions(A2):\n",
    "    return np.argmax(A2, 0)\n",
    "\n",
    "def get_accuracy(predictions, Y):\n",
    "    print(predictions, Y)\n",
    "    # return np.sum(predictions == Y) / Y.size\n",
    "    return np.mean(predictions == Y)\n",
    "\n",
    "def gradient_descent(X, Y, alpha, iterations):\n",
    "    W1, b1, W2, b2 = init_params()\n",
    "    for i in range(iterations):\n",
    "        Z1, A1, Z2, A2 = forward_prop(W1, b1, W2, b2, X)\n",
    "        dW1, db1, dW2, db2 = backward_prop(Z1, A1, Z2, A2, W1, W2, X, Y)\n",
    "        W1, b1, W2, b2 = update_params(W1, b1, W2, b2, dW1, db1, dW2, db2, alpha)\n",
    "        if i % 10 == 0:\n",
    "            print(\"Iteration: \", i)\n",
    "            predictions = get_predictions(A2)\n",
    "            print(get_accuracy(predictions, Y))\n",
    "    return W1, b1, W2, b2"
   ]
  },
  {
   "cell_type": "code",
   "execution_count": 100,
   "metadata": {},
   "outputs": [
    {
     "name": "stdout",
     "output_type": "stream",
     "text": [
      "Iteration:  0\n",
      "[3 8 5 ... 0 6 2] [2 0 9 ... 8 5 0]\n",
      "0.08807317073170731\n",
      "Iteration:  10\n",
      "[3 8 5 ... 0 6 2] [2 0 9 ... 8 5 0]\n",
      "0.08853658536585365\n",
      "Iteration:  20\n",
      "[3 8 6 ... 0 6 2] [2 0 9 ... 8 5 0]\n",
      "0.08919512195121951\n",
      "Iteration:  30\n",
      "[3 8 6 ... 0 6 2] [2 0 9 ... 8 5 0]\n",
      "0.08980487804878048\n",
      "Iteration:  40\n",
      "[3 8 6 ... 0 6 2] [2 0 9 ... 8 5 0]\n",
      "0.09024390243902439\n",
      "Iteration:  50\n",
      "[3 8 6 ... 0 6 2] [2 0 9 ... 8 5 0]\n",
      "0.09029268292682927\n",
      "Iteration:  60\n",
      "[3 8 6 ... 0 6 2] [2 0 9 ... 8 5 0]\n",
      "0.09068292682926829\n",
      "Iteration:  70\n",
      "[3 8 6 ... 0 6 2] [2 0 9 ... 8 5 0]\n",
      "0.09119512195121951\n",
      "Iteration:  80\n",
      "[3 8 6 ... 0 6 2] [2 0 9 ... 8 5 0]\n",
      "0.09153658536585366\n",
      "Iteration:  90\n",
      "[3 8 6 ... 0 6 2] [2 0 9 ... 8 5 0]\n",
      "0.09175609756097561\n",
      "Iteration:  100\n",
      "[3 8 6 ... 0 6 2] [2 0 9 ... 8 5 0]\n",
      "0.09241463414634146\n",
      "Iteration:  110\n",
      "[3 8 6 ... 0 6 2] [2 0 9 ... 8 5 0]\n",
      "0.09292682926829268\n",
      "Iteration:  120\n",
      "[3 8 6 ... 0 6 2] [2 0 9 ... 8 5 0]\n",
      "0.09365853658536585\n",
      "Iteration:  130\n",
      "[3 8 6 ... 0 6 2] [2 0 9 ... 8 5 0]\n",
      "0.0944390243902439\n",
      "Iteration:  140\n",
      "[3 8 6 ... 0 6 2] [2 0 9 ... 8 5 0]\n",
      "0.09495121951219512\n",
      "Iteration:  150\n",
      "[3 8 6 ... 0 6 2] [2 0 9 ... 8 5 0]\n",
      "0.09565853658536586\n",
      "Iteration:  160\n",
      "[3 8 6 ... 0 6 2] [2 0 9 ... 8 5 0]\n",
      "0.0964390243902439\n",
      "Iteration:  170\n",
      "[3 8 6 ... 0 6 2] [2 0 9 ... 8 5 0]\n",
      "0.09729268292682927\n",
      "Iteration:  180\n",
      "[3 3 6 ... 0 6 2] [2 0 9 ... 8 5 0]\n",
      "0.09836585365853659\n",
      "Iteration:  190\n",
      "[3 3 6 ... 0 6 2] [2 0 9 ... 8 5 0]\n",
      "0.0992439024390244\n",
      "Iteration:  200\n",
      "[3 3 6 ... 0 6 2] [2 0 9 ... 8 5 0]\n",
      "0.09992682926829269\n",
      "Iteration:  210\n",
      "[3 3 6 ... 0 6 2] [2 0 9 ... 8 5 0]\n",
      "0.10102439024390245\n",
      "Iteration:  220\n",
      "[3 3 6 ... 0 6 2] [2 0 9 ... 8 5 0]\n",
      "0.1015609756097561\n",
      "Iteration:  230\n",
      "[3 3 6 ... 0 6 2] [2 0 9 ... 8 5 0]\n",
      "0.10212195121951219\n",
      "Iteration:  240\n",
      "[3 3 6 ... 0 6 2] [2 0 9 ... 8 5 0]\n",
      "0.10295121951219512\n",
      "Iteration:  250\n",
      "[3 3 6 ... 0 6 2] [2 0 9 ... 8 5 0]\n",
      "0.10358536585365853\n",
      "Iteration:  260\n",
      "[3 3 6 ... 0 6 2] [2 0 9 ... 8 5 0]\n",
      "0.10465853658536585\n",
      "Iteration:  270\n",
      "[3 3 6 ... 0 6 2] [2 0 9 ... 8 5 0]\n",
      "0.10534146341463414\n",
      "Iteration:  280\n",
      "[3 3 6 ... 0 6 2] [2 0 9 ... 8 5 0]\n",
      "0.10634146341463414\n",
      "Iteration:  290\n",
      "[3 3 6 ... 5 6 2] [2 0 9 ... 8 5 0]\n",
      "0.10690243902439024\n",
      "Iteration:  300\n",
      "[3 3 6 ... 5 6 2] [2 0 9 ... 8 5 0]\n",
      "0.10790243902439024\n",
      "Iteration:  310\n",
      "[3 3 6 ... 5 6 2] [2 0 9 ... 8 5 0]\n",
      "0.1083170731707317\n",
      "Iteration:  320\n",
      "[3 3 6 ... 6 6 2] [2 0 9 ... 8 5 0]\n",
      "0.10851219512195122\n",
      "Iteration:  330\n",
      "[3 3 6 ... 6 6 2] [2 0 9 ... 8 5 0]\n",
      "0.10965853658536585\n",
      "Iteration:  340\n",
      "[3 3 6 ... 6 6 2] [2 0 9 ... 8 5 0]\n",
      "0.11034146341463415\n",
      "Iteration:  350\n",
      "[3 3 6 ... 6 6 2] [2 0 9 ... 8 5 0]\n",
      "0.11114634146341464\n",
      "Iteration:  360\n",
      "[3 3 6 ... 6 6 2] [2 0 9 ... 8 5 0]\n",
      "0.11121951219512195\n",
      "Iteration:  370\n",
      "[3 3 6 ... 6 6 2] [2 0 9 ... 8 5 0]\n",
      "0.1116829268292683\n",
      "Iteration:  380\n",
      "[3 3 6 ... 6 6 2] [2 0 9 ... 8 5 0]\n",
      "0.11160975609756098\n",
      "Iteration:  390\n",
      "[3 3 6 ... 6 6 2] [2 0 9 ... 8 5 0]\n",
      "0.11170731707317073\n",
      "Iteration:  400\n",
      "[3 3 9 ... 6 6 2] [2 0 9 ... 8 5 0]\n",
      "0.11239024390243903\n",
      "Iteration:  410\n",
      "[3 3 9 ... 6 6 2] [2 0 9 ... 8 5 0]\n",
      "0.11241463414634147\n",
      "Iteration:  420\n",
      "[3 3 9 ... 6 6 2] [2 0 9 ... 8 5 0]\n",
      "0.11302439024390244\n",
      "Iteration:  430\n",
      "[3 3 9 ... 6 6 6] [2 0 9 ... 8 5 0]\n",
      "0.11314634146341464\n",
      "Iteration:  440\n",
      "[3 3 9 ... 6 6 6] [2 0 9 ... 8 5 0]\n",
      "0.11307317073170732\n",
      "Iteration:  450\n",
      "[9 3 9 ... 6 6 6] [2 0 9 ... 8 5 0]\n",
      "0.11285365853658537\n",
      "Iteration:  460\n",
      "[9 3 9 ... 6 6 6] [2 0 9 ... 8 5 0]\n",
      "0.11282926829268293\n",
      "Iteration:  470\n",
      "[9 3 9 ... 6 6 6] [2 0 9 ... 8 5 0]\n",
      "0.1125609756097561\n",
      "Iteration:  480\n",
      "[9 3 9 ... 6 6 6] [2 0 9 ... 8 5 0]\n",
      "0.11231707317073171\n",
      "Iteration:  490\n",
      "[9 3 9 ... 6 6 6] [2 0 9 ... 8 5 0]\n",
      "0.11204878048780488\n"
     ]
    }
   ],
   "source": [
    "W1, b1, W2, b2 = gradient_descent(X_train, Y_train, 0.0001, 5000)"
   ]
  },
  {
   "cell_type": "code",
   "execution_count": 96,
   "metadata": {},
   "outputs": [],
   "source": [
    "def make_predictions(X, W1, b1, W2, b2):\n",
    "    _, _, _, A2 = forward_prop(W1, b1, W2, b2, X)\n",
    "    predictions = get_predictions(A2)\n",
    "    return predictions\n",
    "\n",
    "def test_prediction(index, W1, b1, W2, b2):\n",
    "    current_image = X_train[:, index, None]\n",
    "\n",
    "    prediction = make_predictions(X_train[:, index, None], W1, b1, W2, b2)\n",
    "    label = Y_train[index]\n",
    "    print(\"Prediction: \", prediction)\n",
    "    print(\"Label: \", label)\n",
    "    \n",
    "    current_image = current_image.reshape((28, 28)) * 255\n",
    "    plt.gray()\n",
    "    plt.imshow(current_image, interpolation='nearest')\n",
    "    plt.show()"
   ]
  },
  {
   "cell_type": "code",
   "execution_count": 97,
   "metadata": {},
   "outputs": [
    {
     "name": "stdout",
     "output_type": "stream",
     "text": [
      "Prediction:  [0]\n",
      "Label:  2\n"
     ]
    },
    {
     "data": {
      "image/png": "[encoded data removed]",
      "text/plain": [
       "<Figure size 640x480 with 1 Axes>"
      ]
     },
     "metadata": {},
     "output_type": "display_data"
    },
    {
     "name": "stdout",
     "output_type": "stream",
     "text": [
      "Prediction:  [0]\n",
      "Label:  0\n"
     ]
    },
    {
     "data": {
      "image/png": "[encoded data removed]",
      "text/plain": [
       "<Figure size 640x480 with 1 Axes>"
      ]
     },
     "metadata": {},
     "output_type": "display_data"
    },
    {
     "name": "stdout",
     "output_type": "stream",
     "text": [
      "Prediction:  [0]\n",
      "Label:  9\n"
     ]
    },
    {
     "data": {
      "image/png": "[encoded data removed]",
      "text/plain": [
       "<Figure size 640x480 with 1 Axes>"
      ]
     },
     "metadata": {},
     "output_type": "display_data"
    },
    {
     "name": "stdout",
     "output_type": "stream",
     "text": [
      "Prediction:  [0]\n",
      "Label:  6\n"
     ]
    },
    {
     "data": {
      "image/png": "[encoded data removed]",
      "text/plain": [
       "<Figure size 640x480 with 1 Axes>"
      ]
     },
     "metadata": {},
     "output_type": "display_data"
    }
   ],
   "source": [
    "test_prediction(0, W1, b1, W2, b2)\n",
    "test_prediction(1, W1, b1, W2, b2)\n",
    "test_prediction(2, W1, b1, W2, b2)\n",
    "test_prediction(3, W1, b1, W2, b2)"
   ]
  },
  {
   "cell_type": "code",
   "execution_count": null,
   "metadata": {},
   "outputs": [],
   "source": []
  }
 ],
 "metadata": {
  "kernelspec": {
   "display_name": "Python 3",
   "language": "python",
   "name": "python3"
  },
  "language_info": {
   "codemirror_mode": {
    "name": "ipython",
    "version": 3
   },
   "file_extension": ".py",
   "mimetype": "text/x-python",
   "name": "python",
   "nbconvert_exporter": "python",
   "pygments_lexer": "ipython3",
   "version": "3.12.1"
  }
 },
 "nbformat": 4,
 "nbformat_minor": 2
}
